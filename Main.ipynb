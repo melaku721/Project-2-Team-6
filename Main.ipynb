{
 "cells": [
  {
   "cell_type": "code",
   "execution_count": null,
   "id": "a1edbdb5-57c3-4593-beb6-6e571c10a6e8",
   "metadata": {},
   "outputs": [],
   "source": [
    "# Imports\n",
    "import pandas as pd\n",
    "import numpy as np\n",
    "from pathlib import Path\n",
    "import hvplot.pandas\n",
    "import matplotlib.pyplot as plt\n",
    "from sklearn import svm\n",
    "from sklearn.preprocessing import StandardScaler\n",
    "from pandas.tseries.offsets import DateOffset\n",
    "from sklearn.metrics import classification_report"
   ]
  },
  {
   "cell_type": "code",
   "execution_count": null,
   "id": "2cd8b06e-712b-4d43-901e-74c6f1fdc684",
   "metadata": {},
   "outputs": [],
   "source": [
    "# Import the Yahoo Finance dataset into a Pandas Dataframe\n"
   ]
  },
  {
   "cell_type": "code",
   "execution_count": 1,
   "id": "194ec5fa-785c-4280-8c21-003b8c3eac57",
   "metadata": {},
   "outputs": [],
   "source": [
    "# Clean The Data\n"
   ]
  },
  {
   "cell_type": "code",
   "execution_count": 2,
   "id": "3398a550-7676-4217-a3e1-0c3fe4d34b7f",
   "metadata": {},
   "outputs": [],
   "source": [
    "# Create Signals and add columns to dataset"
   ]
  },
  {
   "cell_type": "code",
   "execution_count": 4,
   "id": "f5239e34-7f7f-4be1-8bc6-5b385be96648",
   "metadata": {},
   "outputs": [],
   "source": [
    "# Split the data into training and testing datasets."
   ]
  },
  {
   "cell_type": "code",
   "execution_count": 5,
   "id": "09e3d558-9214-410b-9840-ccd962a1e121",
   "metadata": {},
   "outputs": [],
   "source": [
    "# Plot basic signals "
   ]
  },
  {
   "cell_type": "code",
   "execution_count": null,
   "id": "7b713ffb-6ac0-48c5-b520-24f5a45aad75",
   "metadata": {},
   "outputs": [],
   "source": [
    "# Compare and check what signals fit our "
   ]
  }
 ],
 "metadata": {
  "kernelspec": {
   "display_name": "dev",
   "language": "python",
   "name": "dev"
  },
  "language_info": {
   "codemirror_mode": {
    "name": "ipython",
    "version": 3
   },
   "file_extension": ".py",
   "mimetype": "text/x-python",
   "name": "python",
   "nbconvert_exporter": "python",
   "pygments_lexer": "ipython3",
   "version": "3.7.10"
  }
 },
 "nbformat": 4,
 "nbformat_minor": 5
}
