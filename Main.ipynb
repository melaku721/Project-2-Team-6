{
 "cells": [
  {
   "cell_type": "code",
   "execution_count": null,
   "id": "a1edbdb5-57c3-4593-beb6-6e571c10a6e8",
   "metadata": {},
   "outputs": [],
   "source": [
    "# Imports\n",
    "import pandas as pd\n",
    "import numpy as np\n",
    "from pathlib import Path\n",
    "import hvplot.pandas\n",
    "import matplotlib.pyplot as plt\n",
    "from sklearn import svm\n",
    "from sklearn.preprocessing import StandardScaler\n",
    "from pandas.tseries.offsets import DateOffset\n",
    "from sklearn.metrics import classification_report"
   ]
  },
  {
   "cell_type": "code",
   "execution_count": null,
   "id": "2cd8b06e-712b-4d43-901e-74c6f1fdc684",
   "metadata": {},
   "outputs": [],
   "source": [
    "# Import the Yahoo Finance dataset into a Pandas Dataframe\n",
    "df = pd.Yahoo Finance data"
   ]
  },
  {
   "cell_type": "code",
   "execution_count": 1,
   "id": "194ec5fa-785c-4280-8c21-003b8c3eac57",
   "metadata": {},
   "outputs": [],
   "source": [
    "# Clean The Data/Filter the date index and close columns\n",
    "signals_df = df.loc[:, [\"close\"]]\n",
    "\n",
    "# Use the pct_change function to generate  returns from close prices\n",
    "signals_df[\"Actual Returns\"] = signals_df[\"close\"].pct_change()\n",
    "\n",
    "# Drop all NaN values from the DataFrame\n",
    "signals_df = signals_df.dropna()\n",
    "\n",
    "# Review the DataFrame\n",
    "display(signals_df.head())\n",
    "display(signals_df.tail())"
   ]
  },
  {
   "cell_type": "code",
   "execution_count": 2,
   "id": "3398a550-7676-4217-a3e1-0c3fe4d34b7f",
   "metadata": {},
   "outputs": [],
   "source": [
    "# Create Signals and add columns to dataset\n",
    "# Set the short window and long window\n",
    "short_window = 4\n",
    "long_window = 100\n",
    "\n",
    "# Generate the fast and slow simple moving averages (4 and 100 days, respectively)\n",
    "signals_df['SMA_Fast'] = signals_df['close'].rolling(window=short_window).mean()\n",
    "signals_df['SMA_Slow'] = signals_df['close'].rolling(window=long_window).mean()\n",
    "\n",
    "signals_df = signals_df.dropna()\n",
    "\n",
    "# Review the DataFrame\n",
    "display(signals_df.head())\n",
    "display(signals_df.tail())"
   ]
  },
  {
   "cell_type": "code",
   "execution_count": 4,
   "id": "f5239e34-7f7f-4be1-8bc6-5b385be96648",
   "metadata": {},
   "outputs": [],
   "source": [
    "# Split the data into training and testing datasets."
   ]
  },
  {
   "cell_type": "code",
   "execution_count": 5,
   "id": "09e3d558-9214-410b-9840-ccd962a1e121",
   "metadata": {},
   "outputs": [],
   "source": [
    "# Plot basic signals "
   ]
  },
  {
   "cell_type": "code",
   "execution_count": null,
   "id": "7b713ffb-6ac0-48c5-b520-24f5a45aad75",
   "metadata": {},
   "outputs": [],
   "source": [
    "# Compare and check what signals fit our "
   ]
  }
 ],
 "metadata": {
  "kernelspec": {
   "display_name": "dev",
   "language": "python",
   "name": "dev"
  },
  "language_info": {
   "codemirror_mode": {
    "name": "ipython",
    "version": 3
   },
   "file_extension": ".py",
   "mimetype": "text/x-python",
   "name": "python",
   "nbconvert_exporter": "python",
   "pygments_lexer": "ipython3",
   "version": "3.7.10"
  }
 },
 "nbformat": 4,
 "nbformat_minor": 5
}
